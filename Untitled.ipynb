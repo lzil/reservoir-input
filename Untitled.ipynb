{
 "cells": [
  {
   "cell_type": "code",
   "execution_count": 1,
   "metadata": {},
   "outputs": [],
   "source": [
    "\n",
    "import numpy as np\n",
    "import torch\n",
    "import torch.nn as nn\n",
    "import torch.optim as optim\n",
    "from torch.utils.data import Dataset, DataLoader, Subset\n",
    "import random\n",
    "\n",
    "\n",
    "\n",
    "import yaml\n",
    "import logging\n",
    "import time\n",
    "import json\n",
    "import csv\n",
    "import pickle\n",
    "import copy\n",
    "import pdb\n",
    "import re"
   ]
  },
  {
   "cell_type": "code",
   "execution_count": 2,
   "metadata": {},
   "outputs": [
    {
     "data": {
      "text/plain": [
       "0"
      ]
     },
     "execution_count": 2,
     "metadata": {},
     "output_type": "execute_result"
    }
   ],
   "source": [
    "some_list = []\n",
    "len(some_list)"
   ]
  },
  {
   "cell_type": "code",
   "execution_count": 15,
   "metadata": {},
   "outputs": [
    {
     "data": {
      "text/plain": [
       "array([[0., 0., 0., 0., 0., 0., 0., 0., 0., 0., 0., 0., 0., 0., 0., 0.,\n",
       "        0., 0., 0., 0., 0., 0., 0., 0., 0., 0., 0., 0., 0., 0., 0., 0.,\n",
       "        0., 0., 0., 0., 0., 0., 0., 0., 0., 0., 0., 0., 0., 0., 0., 0.,\n",
       "        0., 0., 0., 0., 0., 0.]])"
      ]
     },
     "execution_count": 15,
     "metadata": {},
     "output_type": "execute_result"
    }
   ],
   "source": [
    "x"
   ]
  },
  {
   "cell_type": "code",
   "execution_count": 16,
   "metadata": {},
   "outputs": [],
   "source": [
    "x[0]=x_set"
   ]
  },
  {
   "cell_type": "code",
   "execution_count": 17,
   "metadata": {},
   "outputs": [
    {
     "data": {
      "text/plain": [
       "array([[0., 0., 0., 0., 0., 1., 1., 1., 1., 1., 0., 0., 0., 0., 0., 0.,\n",
       "        0., 0., 0., 0., 0., 0., 0., 0., 0., 0., 0., 0., 0., 0., 0., 0.,\n",
       "        0., 0., 0., 0., 0., 0., 0., 0., 0., 0., 0., 0., 0., 0., 0., 0.,\n",
       "        0., 0., 0., 0., 0., 0.]])"
      ]
     },
     "execution_count": 17,
     "metadata": {},
     "output_type": "execute_result"
    }
   ],
   "source": [
    "x"
   ]
  },
  {
   "cell_type": "code",
   "execution_count": 18,
   "metadata": {},
   "outputs": [],
   "source": [
    "y=np.arange(t_len)"
   ]
  },
  {
   "cell_type": "code",
   "execution_count": 19,
   "metadata": {},
   "outputs": [
    {
     "data": {
      "text/plain": [
       "array([ 0,  1,  2,  3,  4,  5,  6,  7,  8,  9, 10, 11, 12, 13, 14, 15, 16,\n",
       "       17, 18, 19, 20, 21, 22, 23, 24, 25, 26, 27, 28, 29, 30, 31, 32, 33,\n",
       "       34, 35, 36, 37, 38, 39, 40, 41, 42, 43, 44, 45, 46, 47, 48, 49, 50,\n",
       "       51, 52, 53])"
      ]
     },
     "execution_count": 19,
     "metadata": {},
     "output_type": "execute_result"
    }
   ],
   "source": [
    "y"
   ]
  },
  {
   "cell_type": "code",
   "execution_count": 2,
   "metadata": {},
   "outputs": [],
   "source": [
    "x = np.zeros((1,600))"
   ]
  },
  {
   "cell_type": "code",
   "execution_count": 3,
   "metadata": {},
   "outputs": [
    {
     "data": {
      "text/plain": [
       "(1, 600)"
      ]
     },
     "execution_count": 3,
     "metadata": {},
     "output_type": "execute_result"
    }
   ],
   "source": [
    "x.shape"
   ]
  },
  {
   "cell_type": "code",
   "execution_count": 4,
   "metadata": {},
   "outputs": [
    {
     "ename": "IndexError",
     "evalue": "tuple index out of range",
     "output_type": "error",
     "traceback": [
      "\u001b[0;31m---------------------------------------------------------------------------\u001b[0m",
      "\u001b[0;31mIndexError\u001b[0m                                Traceback (most recent call last)",
      "\u001b[0;32m<ipython-input-4-47c13d9d96b2>\u001b[0m in \u001b[0;36m<module>\u001b[0;34m\u001b[0m\n\u001b[0;32m----> 1\u001b[0;31m \u001b[0mx\u001b[0m\u001b[0;34m.\u001b[0m\u001b[0mshape\u001b[0m\u001b[0;34m[\u001b[0m\u001b[0;36m2\u001b[0m\u001b[0;34m]\u001b[0m\u001b[0;34m\u001b[0m\u001b[0;34m\u001b[0m\u001b[0m\n\u001b[0m",
      "\u001b[0;31mIndexError\u001b[0m: tuple index out of range"
     ]
    }
   ],
   "source": [
    "x.shape[2]"
   ]
  },
  {
   "cell_type": "code",
   "execution_count": 7,
   "metadata": {},
   "outputs": [],
   "source": [
    "def load_rb(path):\n",
    "    with open(path, 'rb') as f:\n",
    "        #opens pickle file (see: https://www.pythonforbeginners.com/files/with-statement-in-python)\n",
    "        qs = pickle.load(f)\n",
    "    return qs"
   ]
  },
  {
   "cell_type": "code",
   "execution_count": 6,
   "metadata": {},
   "outputs": [
    {
     "ename": "AttributeError",
     "evalue": "Can't get attribute 'RSG' on <module '__main__'>",
     "output_type": "error",
     "traceback": [
      "\u001b[0;31m---------------------------------------------------------------------------\u001b[0m",
      "\u001b[0;31mAttributeError\u001b[0m                            Traceback (most recent call last)",
      "\u001b[0;32m<ipython-input-6-4ca557646c20>\u001b[0m in \u001b[0;36m<module>\u001b[0;34m\u001b[0m\n\u001b[0;32m----> 1\u001b[0;31m \u001b[0mload_rb\u001b[0m\u001b[0;34m(\u001b[0m\u001b[0;34m'datasets/rsg-121-150.pkl'\u001b[0m\u001b[0;34m)\u001b[0m\u001b[0;34m\u001b[0m\u001b[0;34m\u001b[0m\u001b[0m\n\u001b[0m",
      "\u001b[0;32m<ipython-input-3-6af58c2dfcd4>\u001b[0m in \u001b[0;36mload_rb\u001b[0;34m(path)\u001b[0m\n\u001b[1;32m      2\u001b[0m     \u001b[0;32mwith\u001b[0m \u001b[0mopen\u001b[0m\u001b[0;34m(\u001b[0m\u001b[0mpath\u001b[0m\u001b[0;34m,\u001b[0m \u001b[0;34m'rb'\u001b[0m\u001b[0;34m)\u001b[0m \u001b[0;32mas\u001b[0m \u001b[0mf\u001b[0m\u001b[0;34m:\u001b[0m\u001b[0;34m\u001b[0m\u001b[0;34m\u001b[0m\u001b[0m\n\u001b[1;32m      3\u001b[0m         \u001b[0;31m#opens pickle file (see: https://www.pythonforbeginners.com/files/with-statement-in-python)\u001b[0m\u001b[0;34m\u001b[0m\u001b[0;34m\u001b[0m\u001b[0;34m\u001b[0m\u001b[0m\n\u001b[0;32m----> 4\u001b[0;31m         \u001b[0mqs\u001b[0m \u001b[0;34m=\u001b[0m \u001b[0mpickle\u001b[0m\u001b[0;34m.\u001b[0m\u001b[0mload\u001b[0m\u001b[0;34m(\u001b[0m\u001b[0mf\u001b[0m\u001b[0;34m)\u001b[0m\u001b[0;34m\u001b[0m\u001b[0;34m\u001b[0m\u001b[0m\n\u001b[0m\u001b[1;32m      5\u001b[0m     \u001b[0;32mreturn\u001b[0m \u001b[0mqs\u001b[0m\u001b[0;34m\u001b[0m\u001b[0;34m\u001b[0m\u001b[0m\n",
      "\u001b[0;31mAttributeError\u001b[0m: Can't get attribute 'RSG' on <module '__main__'>"
     ]
    }
   ],
   "source": [
    "load_rb('datasets/rsg-121-150.pkl')"
   ]
  },
  {
   "cell_type": "code",
   "execution_count": 10,
   "metadata": {},
   "outputs": [],
   "source": [
    "x_ctx = np.zeros((5, 10))\n",
    "x_ctx[0]=1"
   ]
  },
  {
   "cell_type": "code",
   "execution_count": 11,
   "metadata": {},
   "outputs": [
    {
     "data": {
      "text/plain": [
       "array([[1., 1., 1., 1., 1., 1., 1., 1., 1., 1.],\n",
       "       [0., 0., 0., 0., 0., 0., 0., 0., 0., 0.],\n",
       "       [0., 0., 0., 0., 0., 0., 0., 0., 0., 0.],\n",
       "       [0., 0., 0., 0., 0., 0., 0., 0., 0., 0.],\n",
       "       [0., 0., 0., 0., 0., 0., 0., 0., 0., 0.]])"
      ]
     },
     "execution_count": 11,
     "metadata": {},
     "output_type": "execute_result"
    }
   ],
   "source": [
    "x_ctx"
   ]
  },
  {
   "cell_type": "code",
   "execution_count": 12,
   "metadata": {},
   "outputs": [
    {
     "data": {
      "text/plain": [
       "5"
      ]
     },
     "execution_count": 12,
     "metadata": {},
     "output_type": "execute_result"
    }
   ],
   "source": [
    "len(x_ctx)"
   ]
  },
  {
   "cell_type": "code",
   "execution_count": 13,
   "metadata": {},
   "outputs": [
    {
     "data": {
      "text/plain": [
       "tensor([[0., 0., 0., 0., 0.]])"
      ]
     },
     "execution_count": 13,
     "metadata": {},
     "output_type": "execute_result"
    }
   ],
   "source": [
    "T = 5\n",
    "cs = torch.zeros((1, T))\n",
    "cs"
   ]
  },
  {
   "cell_type": "code",
   "execution_count": 7,
   "metadata": {},
   "outputs": [],
   "source": [
    "#cs[0]=1"
   ]
  },
  {
   "cell_type": "code",
   "execution_count": 14,
   "metadata": {},
   "outputs": [
    {
     "data": {
      "text/plain": [
       "tensor([[0., 0., 0., 0., 0.]])"
      ]
     },
     "execution_count": 14,
     "metadata": {},
     "output_type": "execute_result"
    }
   ],
   "source": [
    "cs"
   ]
  },
  {
   "cell_type": "code",
   "execution_count": 15,
   "metadata": {},
   "outputs": [],
   "source": [
    "cs[0, 0] = 1"
   ]
  },
  {
   "cell_type": "code",
   "execution_count": 16,
   "metadata": {},
   "outputs": [
    {
     "data": {
      "text/plain": [
       "tensor([[1., 0., 0., 0., 0.]])"
      ]
     },
     "execution_count": 16,
     "metadata": {},
     "output_type": "execute_result"
    }
   ],
   "source": [
    "cs"
   ]
  },
  {
   "cell_type": "code",
   "execution_count": 2,
   "metadata": {},
   "outputs": [],
   "source": [
    "idx = [1,2,3]"
   ]
  },
  {
   "cell_type": "code",
   "execution_count": 9,
   "metadata": {},
   "outputs": [],
   "source": [
    "idx_new = str(idx)[1:-1]"
   ]
  },
  {
   "cell_type": "code",
   "execution_count": 11,
   "metadata": {},
   "outputs": [
    {
     "data": {
      "text/plain": [
       "'1, 2, 3'"
      ]
     },
     "execution_count": 11,
     "metadata": {},
     "output_type": "execute_result"
    }
   ],
   "source": [
    "idx_new"
   ]
  },
  {
   "cell_type": "code",
   "execution_count": 6,
   "metadata": {},
   "outputs": [
    {
     "name": "stdout",
     "output_type": "stream",
     "text": [
      "[1, 2, 3]\n"
     ]
    }
   ],
   "source": [
    "i want to t"
   ]
  },
  {
   "cell_type": "code",
   "execution_count": 8,
   "metadata": {},
   "outputs": [],
   "source": [
    "x"
   ]
  },
  {
   "cell_type": "code",
   "execution_count": 2,
   "metadata": {},
   "outputs": [],
   "source": [
    "class TorchSeed:\n",
    "    def __init__(self, seed):\n",
    "        self.seed = seed\n",
    "    def __enter__(self):\n",
    "        self.rng_pt = torch.get_rng_state()\n",
    "        torch.manual_seed(self.seed)\n",
    "    def __exit__(self, type, value, traceback):\n",
    "        torch.set_rng_state(self.rng_pt)\n"
   ]
  },
  {
   "cell_type": "code",
   "execution_count": 3,
   "metadata": {},
   "outputs": [],
   "source": [
    "m=TorchSeed(1)"
   ]
  },
  {
   "cell_type": "code",
   "execution_count": 4,
   "metadata": {},
   "outputs": [
    {
     "data": {
      "text/plain": [
       "<__main__.TorchSeed at 0x7fc5da606910>"
      ]
     },
     "execution_count": 4,
     "metadata": {},
     "output_type": "execute_result"
    }
   ],
   "source": []
  },
  {
   "cell_type": "code",
   "execution_count": 14,
   "metadata": {},
   "outputs": [
    {
     "data": {
      "text/plain": [
       "653159"
      ]
     },
     "execution_count": 14,
     "metadata": {},
     "output_type": "execute_result"
    }
   ],
   "source": [
    "random\n",
    "random.seed(5)\n",
    "random.randint(0,1000000)"
   ]
  },
  {
   "cell_type": "code",
   "execution_count": 7,
   "metadata": {},
   "outputs": [
    {
     "ename": "TypeError",
     "evalue": "'module' object is not callable",
     "output_type": "error",
     "traceback": [
      "\u001b[0;31m---------------------------------------------------------------------------\u001b[0m",
      "\u001b[0;31mTypeError\u001b[0m                                 Traceback (most recent call last)",
      "\u001b[0;32m<ipython-input-7-b2934e20a841>\u001b[0m in \u001b[0;36m<module>\u001b[0;34m\u001b[0m\n\u001b[0;32m----> 1\u001b[0;31m \u001b[0mrandom\u001b[0m\u001b[0;34m(\u001b[0m\u001b[0;36m5\u001b[0m\u001b[0;34m)\u001b[0m\u001b[0;34m\u001b[0m\u001b[0;34m\u001b[0m\u001b[0m\n\u001b[0m",
      "\u001b[0;31mTypeError\u001b[0m: 'module' object is not callable"
     ]
    }
   ],
   "source": [
    "random.(5)"
   ]
  },
  {
   "cell_type": "code",
   "execution_count": 9,
   "metadata": {},
   "outputs": [
    {
     "data": {
      "text/plain": [
       "653159"
      ]
     },
     "execution_count": 9,
     "metadata": {},
     "output_type": "execute_result"
    }
   ],
   "source": [
    "random.randint(0,1000000)"
   ]
  },
  {
   "cell_type": "code",
   "execution_count": 5,
   "metadata": {},
   "outputs": [
    {
     "name": "stdout",
     "output_type": "stream",
     "text": [
      "0 [24, 48, 26, 2, 16]\n",
      "1 [24, 48, 26, 2, 16]\n",
      "2 [24, 48, 26, 2, 16]\n",
      "3 [24, 48, 26, 2, 16]\n",
      "4 [24, 48, 26, 2, 16]\n",
      "5 [24, 48, 26, 2, 16]\n",
      "6 [24, 48, 26, 2, 16]\n",
      "7 [24, 48, 26, 2, 16]\n",
      "8 [24, 48, 26, 2, 16]\n",
      "9 [24, 48, 26, 2, 16]\n",
      "10 [24, 48, 26, 2, 16]\n",
      "11 [24, 48, 26, 2, 16]\n",
      "12 [24, 48, 26, 2, 16]\n",
      "13 [24, 48, 26, 2, 16]\n",
      "14 [24, 48, 26, 2, 16]\n",
      "15 [24, 48, 26, 2, 16]\n",
      "16 [24, 48, 26, 2, 16]\n",
      "17 [24, 48, 26, 2, 16]\n",
      "18 [24, 48, 26, 2, 16]\n",
      "19 [24, 48, 26, 2, 16]\n",
      "20 [24, 48, 26, 2, 16]\n",
      "21 [24, 48, 26, 2, 16]\n",
      "22 [24, 48, 26, 2, 16]\n",
      "23 [24, 48, 26, 2, 16]\n",
      "24 [24, 48, 26, 2, 16]\n",
      "25 [8, 36, 48, 4, 16]\n",
      "26 [8, 36, 48, 4, 16]\n",
      "27 [8, 36, 48, 4, 16]\n",
      "28 [8, 36, 48, 4, 16]\n",
      "29 [8, 36, 48, 4, 16]\n",
      "30 [8, 36, 48, 4, 16]\n",
      "31 [8, 36, 48, 4, 16]\n",
      "32 [8, 36, 48, 4, 16]\n",
      "33 [8, 36, 48, 4, 16]\n",
      "34 [8, 36, 48, 4, 16]\n",
      "35 [8, 36, 48, 4, 16]\n",
      "36 [8, 36, 48, 4, 16]\n",
      "37 [8, 36, 48, 4, 16]\n",
      "38 [8, 36, 48, 4, 16]\n",
      "39 [8, 36, 48, 4, 16]\n",
      "40 [8, 36, 48, 4, 16]\n",
      "41 [8, 36, 48, 4, 16]\n",
      "42 [8, 36, 48, 4, 16]\n",
      "43 [8, 36, 48, 4, 16]\n",
      "44 [8, 36, 48, 4, 16]\n",
      "45 [8, 36, 48, 4, 16]\n",
      "46 [8, 36, 48, 4, 16]\n",
      "47 [8, 36, 48, 4, 16]\n",
      "48 [8, 36, 48, 4, 16]\n",
      "49 [8, 36, 48, 4, 16]\n"
     ]
    }
   ],
   "source": [
    "for i in range(0,50):\n",
    "    if i < 25:\n",
    "        train_idx=0\n",
    "    else:\n",
    "        train_idx=1\n",
    "    random.seed(train_idx)\n",
    "    print(i, random.sample(range(0,50),5))\n",
    "    \n"
   ]
  },
  {
   "cell_type": "code",
   "execution_count": 3,
   "metadata": {},
   "outputs": [],
   "source": [
    "x=torch.rand(4,5)\n"
   ]
  },
  {
   "cell_type": "code",
   "execution_count": 5,
   "metadata": {},
   "outputs": [
    {
     "data": {
      "text/plain": [
       "torch.Size([4, 5])"
      ]
     },
     "execution_count": 5,
     "metadata": {},
     "output_type": "execute_result"
    }
   ],
   "source": [
    "x.shape"
   ]
  },
  {
   "cell_type": "code",
   "execution_count": 6,
   "metadata": {},
   "outputs": [
    {
     "data": {
      "text/plain": [
       "4"
      ]
     },
     "execution_count": 6,
     "metadata": {},
     "output_type": "execute_result"
    }
   ],
   "source": [
    "len(x)"
   ]
  },
  {
   "cell_type": "code",
   "execution_count": 7,
   "metadata": {},
   "outputs": [
    {
     "data": {
      "text/plain": [
       "1"
      ]
     },
     "execution_count": 7,
     "metadata": {},
     "output_type": "execute_result"
    }
   ],
   "source": [
    "len(x.unsqueeze(0))"
   ]
  },
  {
   "cell_type": "code",
   "execution_count": 1,
   "metadata": {},
   "outputs": [
    {
     "data": {
      "text/plain": [
       "50"
      ]
     },
     "execution_count": 1,
     "metadata": {},
     "output_type": "execute_result"
    }
   ],
   "source": [
    "50 % 600"
   ]
  },
  {
   "cell_type": "code",
   "execution_count": 8,
   "metadata": {},
   "outputs": [],
   "source": [
    "L=1\n",
    "T=2\n",
    "D1=50\n",
    "\n",
    "M_u = nn.Linear(L +T, D1)"
   ]
  },
  {
   "cell_type": "code",
   "execution_count": 9,
   "metadata": {},
   "outputs": [
    {
     "data": {
      "text/plain": [
       "Linear(in_features=3, out_features=50, bias=True)"
      ]
     },
     "execution_count": 9,
     "metadata": {},
     "output_type": "execute_result"
    }
   ],
   "source": [
    "M_u"
   ]
  },
  {
   "cell_type": "code",
   "execution_count": 15,
   "metadata": {},
   "outputs": [
    {
     "data": {
      "text/plain": [
       "Parameter containing:\n",
       "tensor([[ 0.4518,  0.0724, -0.4907],\n",
       "        [-0.2456, -0.0927,  0.4795],\n",
       "        [ 0.4913, -0.3116,  0.5606],\n",
       "        [-0.3661, -0.5373, -0.3150],\n",
       "        [-0.0544,  0.5117,  0.0906],\n",
       "        [ 0.5276,  0.2221, -0.4257],\n",
       "        [ 0.0576,  0.1458,  0.4880],\n",
       "        [-0.0366, -0.5459, -0.2936],\n",
       "        [ 0.5124,  0.5597,  0.3795],\n",
       "        [-0.3031,  0.1781, -0.2854],\n",
       "        [-0.0371,  0.0448,  0.1080],\n",
       "        [-0.4252, -0.5330, -0.2624],\n",
       "        [-0.1294,  0.5033, -0.3344],\n",
       "        [-0.2144,  0.4207,  0.1846],\n",
       "        [-0.0026,  0.2046,  0.1858],\n",
       "        [-0.0530, -0.3361,  0.0972],\n",
       "        [-0.4375, -0.0014, -0.2609],\n",
       "        [-0.0642,  0.1227, -0.2171],\n",
       "        [ 0.0462,  0.4535, -0.0848],\n",
       "        [ 0.4076, -0.0987, -0.1841],\n",
       "        [-0.4714, -0.1482, -0.2860],\n",
       "        [-0.3024, -0.2617, -0.2808],\n",
       "        [ 0.1167, -0.5315,  0.1499],\n",
       "        [-0.3320,  0.4487, -0.3723],\n",
       "        [ 0.3995, -0.1088, -0.0160],\n",
       "        [ 0.2151, -0.0865, -0.0100],\n",
       "        [-0.3992,  0.1255,  0.1515],\n",
       "        [-0.2331, -0.1348, -0.0796],\n",
       "        [-0.1861, -0.0413,  0.2723],\n",
       "        [ 0.5320,  0.5725, -0.5690],\n",
       "        [-0.4078, -0.3419,  0.1179],\n",
       "        [ 0.0121, -0.1788, -0.3296],\n",
       "        [ 0.5446, -0.4335, -0.3926],\n",
       "        [ 0.0773,  0.1193, -0.1817],\n",
       "        [-0.0852,  0.3584, -0.1386],\n",
       "        [-0.3999, -0.0152, -0.1711],\n",
       "        [-0.0746, -0.3676, -0.4087],\n",
       "        [-0.3596, -0.5427, -0.5329],\n",
       "        [-0.5267,  0.1599,  0.4177],\n",
       "        [ 0.1321,  0.4808,  0.2420],\n",
       "        [-0.3925,  0.4574, -0.5567],\n",
       "        [-0.4457,  0.4204,  0.2356],\n",
       "        [-0.1723, -0.4162, -0.0402],\n",
       "        [ 0.0542, -0.2832,  0.4571],\n",
       "        [ 0.0798, -0.5635,  0.3117],\n",
       "        [-0.5578, -0.5656, -0.4388],\n",
       "        [-0.4989, -0.0653,  0.4860],\n",
       "        [ 0.5340, -0.2473,  0.5525],\n",
       "        [-0.1158, -0.2700,  0.1758],\n",
       "        [-0.3397,  0.3584,  0.4207]], requires_grad=True)"
      ]
     },
     "execution_count": 15,
     "metadata": {},
     "output_type": "execute_result"
    }
   ],
   "source": [
    "M_u.weight"
   ]
  },
  {
   "cell_type": "code",
   "execution_count": 18,
   "metadata": {},
   "outputs": [
    {
     "data": {
      "text/plain": [
       "torch.Size([50, 3])"
      ]
     },
     "execution_count": 18,
     "metadata": {},
     "output_type": "execute_result"
    }
   ],
   "source": [
    "torch.zeros_like(M_u.weight).shape"
   ]
  },
  {
   "cell_type": "code",
   "execution_count": null,
   "metadata": {},
   "outputs": [],
   "source": []
  }
 ],
 "metadata": {
  "kernelspec": {
   "display_name": "Python 3",
   "language": "python",
   "name": "python3"
  },
  "language_info": {
   "codemirror_mode": {
    "name": "ipython",
    "version": 3
   },
   "file_extension": ".py",
   "mimetype": "text/x-python",
   "name": "python",
   "nbconvert_exporter": "python",
   "pygments_lexer": "ipython3",
   "version": "3.7.6"
  }
 },
 "nbformat": 4,
 "nbformat_minor": 4
}
